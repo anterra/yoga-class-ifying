{
 "cells": [
  {
   "cell_type": "code",
   "execution_count": 1,
   "metadata": {},
   "outputs": [],
   "source": [
    "from bs4 import BeautifulSoup\n",
    "import mechanicalsoup\n",
    "import requests\n",
    "import time, os\n",
    "from selenium import webdriver\n",
    "import math\n",
    "import pickle\n",
    "import re\n",
    "import numpy as np\n",
    "import pandas as pd\n",
    "import psycopg2 as pg\n",
    "import pandas.io.sql as pd_sql\n",
    "\n",
    "chromedriver = \"/Applications/chromedriver\"\n",
    "os.environ[\"webdriver.chrome.driver\"] = chromedriver"
   ]
  },
  {
   "cell_type": "code",
   "execution_count": 2,
   "metadata": {},
   "outputs": [],
   "source": [
    "driver = webdriver.Chrome(chromedriver)\n",
    "driver.get(\"https://www.tummee.com/login?\")\n",
    "\n",
    "cookies = pickle.load(open(\"cookies.pickle\", \"rb\"))\n",
    "for cookie in cookies:\n",
    "    driver.add_cookie(cookie)\n",
    "\n",
    "driver.get(\"https://www.tummee.com/sequences/teachers/daily\")"
   ]
  },
  {
   "cell_type": "code",
   "execution_count": 3,
   "metadata": {},
   "outputs": [],
   "source": [
    "f = open(\"power_urls\", \"rb\")\n",
    "power_urls = pickle.load(f)\n",
    "f.close()"
   ]
  },
  {
   "cell_type": "code",
   "execution_count": 4,
   "metadata": {},
   "outputs": [],
   "source": [
    "def get_poses(url): \n",
    "    driver.get(url)\n",
    "    soup = BeautifulSoup(driver.page_source, \"html.parser\")\n",
    "    try: \n",
    "        title = re.sub(r\"[\\t\\n0-9.]\", \"\", soup.find(\"h1\").text.strip())\n",
    "        find_poses = soup.find_all(\"a\", class_=\"english-title\")\n",
    "        poses = [re.sub(r\"[\\t\\n0-9.]\", \"\", i.text.strip()) for i in find_poses]\n",
    "        class_type = \"Power\"\n",
    "    except AttributeError:\n",
    "        info = {\"Title\": np.nan}\n",
    "    else: \n",
    "        info = {\"Title\": title, \"Poses\": poses, \"Class Type\": class_type}\n",
    "    return info"
   ]
  },
  {
   "cell_type": "code",
   "execution_count": 5,
   "metadata": {},
   "outputs": [],
   "source": [
    "power_classes = [get_poses(url) for url in power_urls]"
   ]
  },
  {
   "cell_type": "code",
   "execution_count": 7,
   "metadata": {},
   "outputs": [
    {
     "data": {
      "text/html": [
       "<div>\n",
       "<style scoped>\n",
       "    .dataframe tbody tr th:only-of-type {\n",
       "        vertical-align: middle;\n",
       "    }\n",
       "\n",
       "    .dataframe tbody tr th {\n",
       "        vertical-align: top;\n",
       "    }\n",
       "\n",
       "    .dataframe thead th {\n",
       "        text-align: right;\n",
       "    }\n",
       "</style>\n",
       "<table border=\"1\" class=\"dataframe\">\n",
       "  <thead>\n",
       "    <tr style=\"text-align: right;\">\n",
       "      <th></th>\n",
       "      <th>Title</th>\n",
       "      <th>Poses</th>\n",
       "      <th>Class Type</th>\n",
       "    </tr>\n",
       "  </thead>\n",
       "  <tbody>\n",
       "    <tr>\n",
       "      <th>0</th>\n",
       "      <td>←Beginner Yoga</td>\n",
       "      <td>[Reclined Mountain Pose, Cat Cow Pose Forearms...</td>\n",
       "      <td>Power</td>\n",
       "    </tr>\n",
       "    <tr>\n",
       "      <th>1</th>\n",
       "      <td>←Candlelight Flow /</td>\n",
       "      <td>[Boat Pose Variation Knees Bent Arms Side, Hal...</td>\n",
       "      <td>Power</td>\n",
       "    </tr>\n",
       "    <tr>\n",
       "      <th>2</th>\n",
       "      <td>←Balancing vinyasa</td>\n",
       "      <td>[Child Pose, Side Plank Pose Variation (One Kn...</td>\n",
       "      <td>Power</td>\n",
       "    </tr>\n",
       "    <tr>\n",
       "      <th>3</th>\n",
       "      <td>←HIIT Yoga</td>\n",
       "      <td>[Wide Child Pose, Child Pose Flow, Repeat , Th...</td>\n",
       "      <td>Power</td>\n",
       "    </tr>\n",
       "    <tr>\n",
       "      <th>4</th>\n",
       "      <td>←Vinyasa Flow</td>\n",
       "      <td>[Cat Cow Pose, Cat Cow Pose Downward Facing Do...</td>\n",
       "      <td>Power</td>\n",
       "    </tr>\n",
       "    <tr>\n",
       "      <th>...</th>\n",
       "      <td>...</td>\n",
       "      <td>...</td>\n",
       "      <td>...</td>\n",
       "    </tr>\n",
       "    <tr>\n",
       "      <th>1473</th>\n",
       "      <td>←core /</td>\n",
       "      <td>[Cat Cow Pose, Hovering Cat Pose, Thread The N...</td>\n",
       "      <td>Power</td>\n",
       "    </tr>\n",
       "    <tr>\n",
       "      <th>1474</th>\n",
       "      <td>← de Agosto Power</td>\n",
       "      <td>[Salutation Seal Pose, Easy Pose Neck Side Str...</td>\n",
       "      <td>Power</td>\n",
       "    </tr>\n",
       "    <tr>\n",
       "      <th>1475</th>\n",
       "      <td>←dancing yoga</td>\n",
       "      <td>[Child Pose, Child Pose Variation Both Arms To...</td>\n",
       "      <td>Power</td>\n",
       "    </tr>\n",
       "    <tr>\n",
       "      <th>1476</th>\n",
       "      <td>←Core workout</td>\n",
       "      <td>[Warrior Pose Flow, Pyramid Pose Flow, Intense...</td>\n",
       "      <td>Power</td>\n",
       "    </tr>\n",
       "    <tr>\n",
       "      <th>1477</th>\n",
       "      <td>←JIP Grounding - Triangle Series</td>\n",
       "      <td>[Sun Salutation B, Warrior Pose II, Triangle P...</td>\n",
       "      <td>Power</td>\n",
       "    </tr>\n",
       "  </tbody>\n",
       "</table>\n",
       "<p>1478 rows × 3 columns</p>\n",
       "</div>"
      ],
      "text/plain": [
       "                                 Title  \\\n",
       "0                       ←Beginner Yoga   \n",
       "1                  ←Candlelight Flow /   \n",
       "2                   ←Balancing vinyasa   \n",
       "3                          ←HIIT Yoga    \n",
       "4                       ←Vinyasa Flow    \n",
       "...                                ...   \n",
       "1473                           ←core /   \n",
       "1474                 ← de Agosto Power   \n",
       "1475                     ←dancing yoga   \n",
       "1476                     ←Core workout   \n",
       "1477  ←JIP Grounding - Triangle Series   \n",
       "\n",
       "                                                  Poses Class Type  \n",
       "0     [Reclined Mountain Pose, Cat Cow Pose Forearms...      Power  \n",
       "1     [Boat Pose Variation Knees Bent Arms Side, Hal...      Power  \n",
       "2     [Child Pose, Side Plank Pose Variation (One Kn...      Power  \n",
       "3     [Wide Child Pose, Child Pose Flow, Repeat , Th...      Power  \n",
       "4     [Cat Cow Pose, Cat Cow Pose Downward Facing Do...      Power  \n",
       "...                                                 ...        ...  \n",
       "1473  [Cat Cow Pose, Hovering Cat Pose, Thread The N...      Power  \n",
       "1474  [Salutation Seal Pose, Easy Pose Neck Side Str...      Power  \n",
       "1475  [Child Pose, Child Pose Variation Both Arms To...      Power  \n",
       "1476  [Warrior Pose Flow, Pyramid Pose Flow, Intense...      Power  \n",
       "1477  [Sun Salutation B, Warrior Pose II, Triangle P...      Power  \n",
       "\n",
       "[1478 rows x 3 columns]"
      ]
     },
     "execution_count": 7,
     "metadata": {},
     "output_type": "execute_result"
    }
   ],
   "source": [
    "df = pd.DataFrame(power_classes)\n",
    "df"
   ]
  },
  {
   "cell_type": "code",
   "execution_count": 8,
   "metadata": {},
   "outputs": [],
   "source": [
    "f = open(\"power_df\", \"wb\")\n",
    "pickle.dump(df, f)\n",
    "f.close()"
   ]
  },
  {
   "cell_type": "code",
   "execution_count": null,
   "metadata": {},
   "outputs": [],
   "source": []
  }
 ],
 "metadata": {
  "kernelspec": {
   "display_name": "Python 3",
   "language": "python",
   "name": "python3"
  },
  "language_info": {
   "codemirror_mode": {
    "name": "ipython",
    "version": 3
   },
   "file_extension": ".py",
   "mimetype": "text/x-python",
   "name": "python",
   "nbconvert_exporter": "python",
   "pygments_lexer": "ipython3",
   "version": "3.7.7"
  }
 },
 "nbformat": 4,
 "nbformat_minor": 4
}
