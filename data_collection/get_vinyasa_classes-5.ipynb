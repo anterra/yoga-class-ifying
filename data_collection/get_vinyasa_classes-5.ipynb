{
 "cells": [
  {
   "cell_type": "code",
   "execution_count": 1,
   "metadata": {},
   "outputs": [],
   "source": [
    "from bs4 import BeautifulSoup\n",
    "import mechanicalsoup\n",
    "import requests\n",
    "import time, os\n",
    "from selenium import webdriver\n",
    "import math\n",
    "import pickle\n",
    "import re\n",
    "import numpy as np\n",
    "import pandas as pd\n",
    "import psycopg2 as pg\n",
    "import pandas.io.sql as pd_sql\n",
    "from get_sequence_urls import get_sequences\n",
    "\n",
    "chromedriver = \"/Applications/chromedriver\"\n",
    "os.environ[\"webdriver.chrome.driver\"] = chromedriver\n",
    "from selenium.webdriver.support.ui import Select\n",
    "from selenium.webdriver.chrome.options import Options"
   ]
  },
  {
   "cell_type": "code",
   "execution_count": 7,
   "metadata": {},
   "outputs": [],
   "source": [
    "driver = webdriver.Chrome(chromedriver)\n",
    "driver.get(\"https://www.tummee.com/login?\")\n",
    "\n",
    "cookies = pickle.load(open(\"cookies.pickle\", \"rb\"))\n",
    "for cookie in cookies:\n",
    "    driver.add_cookie(cookie)\n",
    "\n",
    "driver.get(\"https://www.tummee.com/sequences/teachers/daily\")"
   ]
  },
  {
   "cell_type": "code",
   "execution_count": 8,
   "metadata": {},
   "outputs": [],
   "source": [
    "f = open(\"vinyasa_urls\", \"rb\")\n",
    "vinyasa_urls = pickle.load(f)\n",
    "f.close()"
   ]
  },
  {
   "cell_type": "code",
   "execution_count": 9,
   "metadata": {},
   "outputs": [],
   "source": [
    "def get_poses(url): \n",
    "    driver.get(url)\n",
    "    soup = BeautifulSoup(driver.page_source, \"html.parser\")\n",
    "    try: \n",
    "        title = re.sub(r\"[\\t\\n0-9.]\", \"\", soup.find(\"h1\").text.strip())\n",
    "        find_poses = soup.find_all(\"a\", class_=\"english-title\")\n",
    "        poses = [re.sub(r\"[\\t\\n0-9.]\", \"\", i.text.strip()) for i in find_poses]\n",
    "        class_type = \"Vinyasa\"\n",
    "    except AttributeError:\n",
    "        info = {\"Title\": np.nan}\n",
    "    except TimeoutError:\n",
    "        info = {\"Title\": np.nan}\n",
    "    else: \n",
    "        info = {\"Title\": title, \"Poses\": poses, \"Class Type\": class_type}\n",
    "    return info"
   ]
  },
  {
   "cell_type": "code",
   "execution_count": 10,
   "metadata": {},
   "outputs": [],
   "source": [
    "vinyasa_classes = [get_poses(url) for url in vinyasa_urls[7000:8000]]"
   ]
  },
  {
   "cell_type": "code",
   "execution_count": 11,
   "metadata": {},
   "outputs": [],
   "source": [
    "df = pd.DataFrame(vinyasa_classes)"
   ]
  },
  {
   "cell_type": "code",
   "execution_count": 13,
   "metadata": {},
   "outputs": [],
   "source": [
    "f = open(\"vinyasa_df\", \"rb\")\n",
    "vinyasa_df = pickle.load(f)\n",
    "f.close()"
   ]
  },
  {
   "cell_type": "code",
   "execution_count": 15,
   "metadata": {},
   "outputs": [],
   "source": [
    "vinyasa_df = pd.concat([vinyasa_df, df])"
   ]
  },
  {
   "cell_type": "code",
   "execution_count": 17,
   "metadata": {},
   "outputs": [],
   "source": [
    "f = open(\"vinyasa_df\", \"wb\")\n",
    "pickle.dump(vinyasa_df, f)\n",
    "f.close()"
   ]
  },
  {
   "cell_type": "code",
   "execution_count": 18,
   "metadata": {},
   "outputs": [],
   "source": [
    "vinyasa_classes_2 = [get_poses(url) for url in vinyasa_urls[8000:9000]]"
   ]
  },
  {
   "cell_type": "code",
   "execution_count": 19,
   "metadata": {},
   "outputs": [],
   "source": [
    "df2 = pd.DataFrame(vinyasa_classes_2)"
   ]
  },
  {
   "cell_type": "code",
   "execution_count": 30,
   "metadata": {},
   "outputs": [],
   "source": [
    "vinyasa_df = pd.concat([vinyasa_df, df2])"
   ]
  },
  {
   "cell_type": "code",
   "execution_count": 22,
   "metadata": {},
   "outputs": [],
   "source": [
    "f = open(\"vinyasa_df\", \"wb\")\n",
    "pickle.dump(vinyasa_df, f)\n",
    "f.close()"
   ]
  },
  {
   "cell_type": "code",
   "execution_count": 23,
   "metadata": {},
   "outputs": [],
   "source": [
    "vinyasa_classes_3 = [get_poses(url) for url in vinyasa_urls[9000:11000]]"
   ]
  },
  {
   "cell_type": "code",
   "execution_count": 24,
   "metadata": {},
   "outputs": [],
   "source": [
    "df3 = pd.DataFrame(vinyasa_classes_3)"
   ]
  },
  {
   "cell_type": "code",
   "execution_count": 31,
   "metadata": {},
   "outputs": [],
   "source": [
    "vinyasa_df = pd.concat([vinyasa_df, df3])"
   ]
  },
  {
   "cell_type": "code",
   "execution_count": 34,
   "metadata": {},
   "outputs": [],
   "source": [
    "f = open(\"vinyasa_df\", \"wb\")\n",
    "pickle.dump(vinyasa_df, f)\n",
    "f.close()"
   ]
  },
  {
   "cell_type": "code",
   "execution_count": 35,
   "metadata": {},
   "outputs": [],
   "source": [
    "vinyasa_classes_4 = [get_poses(url) for url in vinyasa_urls[11000:13000]]"
   ]
  },
  {
   "cell_type": "code",
   "execution_count": 36,
   "metadata": {},
   "outputs": [],
   "source": [
    "df4 = pd.DataFrame(vinyasa_classes_4)"
   ]
  },
  {
   "cell_type": "code",
   "execution_count": 37,
   "metadata": {},
   "outputs": [],
   "source": [
    "vinyasa_df = pd.concat([vinyasa_df, df4])"
   ]
  },
  {
   "cell_type": "code",
   "execution_count": 39,
   "metadata": {},
   "outputs": [
    {
     "data": {
      "text/html": [
       "<div>\n",
       "<style scoped>\n",
       "    .dataframe tbody tr th:only-of-type {\n",
       "        vertical-align: middle;\n",
       "    }\n",
       "\n",
       "    .dataframe tbody tr th {\n",
       "        vertical-align: top;\n",
       "    }\n",
       "\n",
       "    .dataframe thead th {\n",
       "        text-align: right;\n",
       "    }\n",
       "</style>\n",
       "<table border=\"1\" class=\"dataframe\">\n",
       "  <thead>\n",
       "    <tr style=\"text-align: right;\">\n",
       "      <th></th>\n",
       "      <th>Title</th>\n",
       "      <th>Poses</th>\n",
       "      <th>Class Type</th>\n",
       "    </tr>\n",
       "  </thead>\n",
       "  <tbody>\n",
       "    <tr>\n",
       "      <th>0</th>\n",
       "      <td>←Slow Sunday Flow y Monday early</td>\n",
       "      <td>[Easy Pose Hands To Heart, Easy Pose Hands Int...</td>\n",
       "      <td>Vinyasa</td>\n",
       "    </tr>\n",
       "    <tr>\n",
       "      <th>1</th>\n",
       "      <td>←Anahata</td>\n",
       "      <td>[Mantra Section, Thunderbolt Pose, Easy Pose B...</td>\n",
       "      <td>Vinyasa</td>\n",
       "    </tr>\n",
       "    <tr>\n",
       "      <th>2</th>\n",
       "      <td>←CORE</td>\n",
       "      <td>[Classic Sun Salutation Variation F, Chair Pos...</td>\n",
       "      <td>Vinyasa</td>\n",
       "    </tr>\n",
       "    <tr>\n",
       "      <th>3</th>\n",
       "      <td>←</td>\n",
       "      <td>[Easy Pose, Easy Pose Warm Up Flow, Sun Saluta...</td>\n",
       "      <td>Vinyasa</td>\n",
       "    </tr>\n",
       "    <tr>\n",
       "      <th>4</th>\n",
       "      <td>←Vinyasa - Bench press &amp; push up #</td>\n",
       "      <td>[Corpse Pose, Corpse Pose Roll Under Spine, Wr...</td>\n",
       "      <td>Vinyasa</td>\n",
       "    </tr>\n",
       "    <tr>\n",
       "      <th>...</th>\n",
       "      <td>...</td>\n",
       "      <td>...</td>\n",
       "      <td>...</td>\n",
       "    </tr>\n",
       "    <tr>\n",
       "      <th>1995</th>\n",
       "      <td>←Foundations -</td>\n",
       "      <td>[Easy Pose, Easy Pose Bound Hands, Easy Pose N...</td>\n",
       "      <td>Vinyasa</td>\n",
       "    </tr>\n",
       "    <tr>\n",
       "      <th>1996</th>\n",
       "      <td>←Vinyasa to Yin Total body  min Jenny Sjöberg</td>\n",
       "      <td>[Prop Block, Prop Block, Prop Blanket, Prop Bo...</td>\n",
       "      <td>Vinyasa</td>\n",
       "    </tr>\n",
       "    <tr>\n",
       "      <th>1997</th>\n",
       "      <td>←Wellness  (Community)</td>\n",
       "      <td>[Ground Down Section, Mountain Pose, Three Par...</td>\n",
       "      <td>Vinyasa</td>\n",
       "    </tr>\n",
       "    <tr>\n",
       "      <th>1998</th>\n",
       "      <td>←Vinyasa Flow (July )</td>\n",
       "      <td>[Easy Pose, Easy Pose Side Bend, Easy Pose Sid...</td>\n",
       "      <td>Vinyasa</td>\n",
       "    </tr>\n",
       "    <tr>\n",
       "      <th>1999</th>\n",
       "      <td>←start to yoga</td>\n",
       "      <td>[Reclined Arms Movement Flow, Supine Butterfly...</td>\n",
       "      <td>Vinyasa</td>\n",
       "    </tr>\n",
       "  </tbody>\n",
       "</table>\n",
       "<p>13000 rows × 3 columns</p>\n",
       "</div>"
      ],
      "text/plain": [
       "                                              Title  \\\n",
       "0                  ←Slow Sunday Flow y Monday early   \n",
       "1                                         ←Anahata    \n",
       "2                                             ←CORE   \n",
       "3                                                 ←   \n",
       "4                ←Vinyasa - Bench press & push up #   \n",
       "...                                             ...   \n",
       "1995                                ←Foundations -    \n",
       "1996  ←Vinyasa to Yin Total body  min Jenny Sjöberg   \n",
       "1997                         ←Wellness  (Community)   \n",
       "1998                          ←Vinyasa Flow (July )   \n",
       "1999                                ←start to yoga    \n",
       "\n",
       "                                                  Poses Class Type  \n",
       "0     [Easy Pose Hands To Heart, Easy Pose Hands Int...    Vinyasa  \n",
       "1     [Mantra Section, Thunderbolt Pose, Easy Pose B...    Vinyasa  \n",
       "2     [Classic Sun Salutation Variation F, Chair Pos...    Vinyasa  \n",
       "3     [Easy Pose, Easy Pose Warm Up Flow, Sun Saluta...    Vinyasa  \n",
       "4     [Corpse Pose, Corpse Pose Roll Under Spine, Wr...    Vinyasa  \n",
       "...                                                 ...        ...  \n",
       "1995  [Easy Pose, Easy Pose Bound Hands, Easy Pose N...    Vinyasa  \n",
       "1996  [Prop Block, Prop Block, Prop Blanket, Prop Bo...    Vinyasa  \n",
       "1997  [Ground Down Section, Mountain Pose, Three Par...    Vinyasa  \n",
       "1998  [Easy Pose, Easy Pose Side Bend, Easy Pose Sid...    Vinyasa  \n",
       "1999  [Reclined Arms Movement Flow, Supine Butterfly...    Vinyasa  \n",
       "\n",
       "[13000 rows x 3 columns]"
      ]
     },
     "execution_count": 39,
     "metadata": {},
     "output_type": "execute_result"
    }
   ],
   "source": [
    "vinyasa_df"
   ]
  },
  {
   "cell_type": "code",
   "execution_count": 38,
   "metadata": {},
   "outputs": [],
   "source": [
    "f = open(\"vinyasa_df\", \"wb\")\n",
    "pickle.dump(vinyasa_df, f)\n",
    "f.close()"
   ]
  },
  {
   "cell_type": "code",
   "execution_count": null,
   "metadata": {},
   "outputs": [],
   "source": [
    "vinyasa_classes_4 = [get_poses(url) for url in vinyasa_urls[13000:15000]]"
   ]
  }
 ],
 "metadata": {
  "kernelspec": {
   "display_name": "Python 3",
   "language": "python",
   "name": "python3"
  },
  "language_info": {
   "codemirror_mode": {
    "name": "ipython",
    "version": 3
   },
   "file_extension": ".py",
   "mimetype": "text/x-python",
   "name": "python",
   "nbconvert_exporter": "python",
   "pygments_lexer": "ipython3",
   "version": "3.7.7"
  }
 },
 "nbformat": 4,
 "nbformat_minor": 4
}
