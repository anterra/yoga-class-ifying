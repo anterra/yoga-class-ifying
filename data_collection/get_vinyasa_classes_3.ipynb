{
 "cells": [
  {
   "cell_type": "code",
   "execution_count": 1,
   "metadata": {},
   "outputs": [],
   "source": [
    "from bs4 import BeautifulSoup\n",
    "import mechanicalsoup\n",
    "import requests\n",
    "import time, os\n",
    "from selenium import webdriver\n",
    "import math\n",
    "import pickle\n",
    "import re\n",
    "import numpy as np\n",
    "import pandas as pd\n",
    "import psycopg2 as pg\n",
    "import pandas.io.sql as pd_sql\n",
    "from get_sequence_urls import get_sequences\n",
    "\n",
    "chromedriver = \"/Applications/chromedriver\"\n",
    "os.environ[\"webdriver.chrome.driver\"] = chromedriver\n",
    "from selenium.webdriver.support.ui import Select\n",
    "from selenium.webdriver.chrome.options import Options"
   ]
  },
  {
   "cell_type": "code",
   "execution_count": 2,
   "metadata": {},
   "outputs": [],
   "source": [
    "driver = webdriver.Chrome(chromedriver)\n",
    "driver.get(\"https://www.tummee.com/login?\")\n",
    "\n",
    "cookies = pickle.load(open(\"cookies.pickle\", \"rb\"))\n",
    "for cookie in cookies:\n",
    "    driver.add_cookie(cookie)\n",
    "\n",
    "driver.get(\"https://www.tummee.com/sequences/teachers/daily\")"
   ]
  },
  {
   "cell_type": "code",
   "execution_count": 3,
   "metadata": {},
   "outputs": [],
   "source": [
    "f = open(\"vinyasa_urls\", \"rb\")\n",
    "vinyasa_urls = pickle.load(f)\n",
    "f.close()"
   ]
  },
  {
   "cell_type": "code",
   "execution_count": 4,
   "metadata": {},
   "outputs": [],
   "source": [
    "def get_poses(url): \n",
    "    driver.get(url)\n",
    "    soup = BeautifulSoup(driver.page_source, \"html.parser\")\n",
    "    try: \n",
    "        title = re.sub(r\"[\\t\\n0-9.]\", \"\", soup.find(\"h1\").text.strip())\n",
    "        find_poses = soup.find_all(\"a\", class_=\"english-title\")\n",
    "        poses = [re.sub(r\"[\\t\\n0-9.]\", \"\", i.text.strip()) for i in find_poses]\n",
    "        class_type = \"Vinyasa\"\n",
    "    except AttributeError:\n",
    "        info = {\"Title\": np.nan}\n",
    "    else: \n",
    "        info = {\"Title\": title, \"Poses\": poses, \"Class Type\": class_type}\n",
    "    return info"
   ]
  },
  {
   "cell_type": "code",
   "execution_count": 5,
   "metadata": {},
   "outputs": [],
   "source": [
    "vinyasa_classes = [get_poses(url) for url in vinyasa_urls[4000:6000]]"
   ]
  },
  {
   "cell_type": "code",
   "execution_count": 6,
   "metadata": {},
   "outputs": [],
   "source": [
    "df = pd.DataFrame(vinyasa_classes)"
   ]
  },
  {
   "cell_type": "code",
   "execution_count": 12,
   "metadata": {},
   "outputs": [],
   "source": [
    "f = open(\"vinyasa_df\", \"rb\")\n",
    "vinyasa_df = pickle.load(f)\n",
    "f.close()"
   ]
  },
  {
   "cell_type": "code",
   "execution_count": 13,
   "metadata": {},
   "outputs": [],
   "source": [
    "vinyasa_df = pd.concat([vinyasa_df, df])"
   ]
  },
  {
   "cell_type": "code",
   "execution_count": 14,
   "metadata": {},
   "outputs": [],
   "source": [
    "f = open(\"vinyasa_df\", \"wb\")\n",
    "pickle.dump(vinyasa_df, f)\n",
    "f.close()"
   ]
  },
  {
   "cell_type": "code",
   "execution_count": null,
   "metadata": {},
   "outputs": [],
   "source": []
  }
 ],
 "metadata": {
  "kernelspec": {
   "display_name": "Python 3",
   "language": "python",
   "name": "python3"
  },
  "language_info": {
   "codemirror_mode": {
    "name": "ipython",
    "version": 3
   },
   "file_extension": ".py",
   "mimetype": "text/x-python",
   "name": "python",
   "nbconvert_exporter": "python",
   "pygments_lexer": "ipython3",
   "version": "3.7.7"
  }
 },
 "nbformat": 4,
 "nbformat_minor": 4
}
