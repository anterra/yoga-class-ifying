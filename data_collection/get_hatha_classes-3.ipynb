{
 "cells": [
  {
   "cell_type": "code",
   "execution_count": 1,
   "metadata": {},
   "outputs": [],
   "source": [
    "from bs4 import BeautifulSoup\n",
    "import mechanicalsoup\n",
    "import requests\n",
    "import time, os\n",
    "from selenium import webdriver\n",
    "import math\n",
    "import pickle\n",
    "import re\n",
    "import numpy as np\n",
    "import pandas as pd\n",
    "import psycopg2 as pg\n",
    "import pandas.io.sql as pd_sql\n",
    "\n",
    "chromedriver = \"/Applications/chromedriver\"\n",
    "os.environ[\"webdriver.chrome.driver\"] = chromedriver"
   ]
  },
  {
   "cell_type": "code",
   "execution_count": 2,
   "metadata": {},
   "outputs": [],
   "source": [
    "driver = webdriver.Chrome(chromedriver)\n",
    "driver.get(\"https://www.tummee.com/login?\")\n",
    "\n",
    "cookies = pickle.load(open(\"cookies.pickle\", \"rb\"))\n",
    "for cookie in cookies:\n",
    "    driver.add_cookie(cookie)\n",
    "\n",
    "driver.get(\"https://www.tummee.com/sequences/teachers/daily\")"
   ]
  },
  {
   "cell_type": "code",
   "execution_count": 3,
   "metadata": {},
   "outputs": [],
   "source": [
    "f = open(\"hatha_urls\", \"rb\")\n",
    "hatha_urls = pickle.load(f)\n",
    "f.close()"
   ]
  },
  {
   "cell_type": "code",
   "execution_count": 4,
   "metadata": {},
   "outputs": [],
   "source": [
    "def get_poses(url): \n",
    "    driver.get(url)\n",
    "    soup = BeautifulSoup(driver.page_source, \"html.parser\")\n",
    "    try: \n",
    "        title = re.sub(r\"[\\t\\n0-9.]\", \"\", soup.find(\"h1\").text.strip())\n",
    "        find_poses = soup.find_all(\"a\", class_=\"english-title\")\n",
    "        poses = [re.sub(r\"[\\t\\n0-9.]\", \"\", i.text.strip()) for i in find_poses]\n",
    "        class_type = \"Hatha\"\n",
    "    except AttributeError:\n",
    "        info = {\"Title\": np.nan}\n",
    "    except TimeoutError:\n",
    "        info = {\"Title\": np.nan}\n",
    "    else: \n",
    "        info = {\"Title\": title, \"Poses\": poses, \"Class Type\": class_type}\n",
    "    return info"
   ]
  },
  {
   "cell_type": "code",
   "execution_count": 5,
   "metadata": {},
   "outputs": [
    {
     "data": {
      "text/plain": [
       "25628"
      ]
     },
     "execution_count": 5,
     "metadata": {},
     "output_type": "execute_result"
    }
   ],
   "source": [
    "len(hatha_urls)"
   ]
  },
  {
   "cell_type": "code",
   "execution_count": 6,
   "metadata": {},
   "outputs": [],
   "source": [
    "hatha_classes = [get_poses(url) for url in hatha_urls[9000:11000]]"
   ]
  },
  {
   "cell_type": "code",
   "execution_count": 7,
   "metadata": {},
   "outputs": [],
   "source": [
    "df = pd.DataFrame(hatha_classes)"
   ]
  },
  {
   "cell_type": "code",
   "execution_count": 10,
   "metadata": {},
   "outputs": [],
   "source": [
    "f = open(\"hatha_df\", \"rb\")\n",
    "hatha_df = pickle.load(f)\n",
    "f.close()"
   ]
  },
  {
   "cell_type": "code",
   "execution_count": 11,
   "metadata": {},
   "outputs": [
    {
     "data": {
      "text/html": [
       "<div>\n",
       "<style scoped>\n",
       "    .dataframe tbody tr th:only-of-type {\n",
       "        vertical-align: middle;\n",
       "    }\n",
       "\n",
       "    .dataframe tbody tr th {\n",
       "        vertical-align: top;\n",
       "    }\n",
       "\n",
       "    .dataframe thead th {\n",
       "        text-align: right;\n",
       "    }\n",
       "</style>\n",
       "<table border=\"1\" class=\"dataframe\">\n",
       "  <thead>\n",
       "    <tr style=\"text-align: right;\">\n",
       "      <th></th>\n",
       "      <th>Title</th>\n",
       "      <th>Poses</th>\n",
       "      <th>Class Type</th>\n",
       "    </tr>\n",
       "  </thead>\n",
       "  <tbody>\n",
       "    <tr>\n",
       "      <th>0</th>\n",
       "      <td>←Montag abend</td>\n",
       "      <td>[Mountain Pose, Mountain Pose Raised Hands Hea...</td>\n",
       "      <td>Hatha</td>\n",
       "    </tr>\n",
       "    <tr>\n",
       "      <th>1</th>\n",
       "      <td>←Vishuddha (Throat) Balance</td>\n",
       "      <td>[Easy Pose, Breath Awareness Section, Establis...</td>\n",
       "      <td>Hatha</td>\n",
       "    </tr>\n",
       "    <tr>\n",
       "      <th>2</th>\n",
       "      <td>←Breathe yoga</td>\n",
       "      <td>[Easy Pose, Diaphragmatic Breathing, Seated Ca...</td>\n",
       "      <td>Hatha</td>\n",
       "    </tr>\n",
       "    <tr>\n",
       "      <th>3</th>\n",
       "      <td>←___Arm_balance</td>\n",
       "      <td>[Pranayama, Ocean Breath Variation I Close Up,...</td>\n",
       "      <td>Hatha</td>\n",
       "    </tr>\n",
       "    <tr>\n",
       "      <th>4</th>\n",
       "      <td>←floor and hips</td>\n",
       "      <td>[One Legged Wheel Pose Feet Partner, Flying Wh...</td>\n",
       "      <td>Hatha</td>\n",
       "    </tr>\n",
       "    <tr>\n",
       "      <th>...</th>\n",
       "      <td>...</td>\n",
       "      <td>...</td>\n",
       "      <td>...</td>\n",
       "    </tr>\n",
       "    <tr>\n",
       "      <th>1995</th>\n",
       "      <td>←Pigeon - short</td>\n",
       "      <td>[Cat Cow Pose, Table Top Pose  Lateral Leg Lif...</td>\n",
       "      <td>Hatha</td>\n",
       "    </tr>\n",
       "    <tr>\n",
       "      <th>1996</th>\n",
       "      <td>←Inversions for Beginners</td>\n",
       "      <td>[Cat Cow Pose, Low Lunge Pose, Low Lunge Pose ...</td>\n",
       "      <td>Hatha</td>\n",
       "    </tr>\n",
       "    <tr>\n",
       "      <th>1997</th>\n",
       "      <td>NaN</td>\n",
       "      <td>NaN</td>\n",
       "      <td>NaN</td>\n",
       "    </tr>\n",
       "    <tr>\n",
       "      <th>1998</th>\n",
       "      <td>← min sequence</td>\n",
       "      <td>[Table Top Pose, Cow Face Pose, Cow Face Pose,...</td>\n",
       "      <td>Hatha</td>\n",
       "    </tr>\n",
       "    <tr>\n",
       "      <th>1999</th>\n",
       "      <td>←hey</td>\n",
       "      <td>[Chair Cat Cow Pose, Seated Forward Bend Pose ...</td>\n",
       "      <td>Hatha</td>\n",
       "    </tr>\n",
       "  </tbody>\n",
       "</table>\n",
       "<p>9000 rows × 3 columns</p>\n",
       "</div>"
      ],
      "text/plain": [
       "                            Title  \\\n",
       "0                   ←Montag abend   \n",
       "1     ←Vishuddha (Throat) Balance   \n",
       "2                   ←Breathe yoga   \n",
       "3                 ←___Arm_balance   \n",
       "4                 ←floor and hips   \n",
       "...                           ...   \n",
       "1995              ←Pigeon - short   \n",
       "1996    ←Inversions for Beginners   \n",
       "1997                          NaN   \n",
       "1998               ← min sequence   \n",
       "1999                         ←hey   \n",
       "\n",
       "                                                  Poses Class Type  \n",
       "0     [Mountain Pose, Mountain Pose Raised Hands Hea...      Hatha  \n",
       "1     [Easy Pose, Breath Awareness Section, Establis...      Hatha  \n",
       "2     [Easy Pose, Diaphragmatic Breathing, Seated Ca...      Hatha  \n",
       "3     [Pranayama, Ocean Breath Variation I Close Up,...      Hatha  \n",
       "4     [One Legged Wheel Pose Feet Partner, Flying Wh...      Hatha  \n",
       "...                                                 ...        ...  \n",
       "1995  [Cat Cow Pose, Table Top Pose  Lateral Leg Lif...      Hatha  \n",
       "1996  [Cat Cow Pose, Low Lunge Pose, Low Lunge Pose ...      Hatha  \n",
       "1997                                                NaN        NaN  \n",
       "1998  [Table Top Pose, Cow Face Pose, Cow Face Pose,...      Hatha  \n",
       "1999  [Chair Cat Cow Pose, Seated Forward Bend Pose ...      Hatha  \n",
       "\n",
       "[9000 rows x 3 columns]"
      ]
     },
     "execution_count": 11,
     "metadata": {},
     "output_type": "execute_result"
    }
   ],
   "source": [
    "hatha_df"
   ]
  },
  {
   "cell_type": "code",
   "execution_count": 12,
   "metadata": {},
   "outputs": [],
   "source": [
    "hatha_df = pd.concat([hatha_df, df])"
   ]
  },
  {
   "cell_type": "code",
   "execution_count": 13,
   "metadata": {},
   "outputs": [
    {
     "data": {
      "text/html": [
       "<div>\n",
       "<style scoped>\n",
       "    .dataframe tbody tr th:only-of-type {\n",
       "        vertical-align: middle;\n",
       "    }\n",
       "\n",
       "    .dataframe tbody tr th {\n",
       "        vertical-align: top;\n",
       "    }\n",
       "\n",
       "    .dataframe thead th {\n",
       "        text-align: right;\n",
       "    }\n",
       "</style>\n",
       "<table border=\"1\" class=\"dataframe\">\n",
       "  <thead>\n",
       "    <tr style=\"text-align: right;\">\n",
       "      <th></th>\n",
       "      <th>Title</th>\n",
       "      <th>Poses</th>\n",
       "      <th>Class Type</th>\n",
       "    </tr>\n",
       "  </thead>\n",
       "  <tbody>\n",
       "    <tr>\n",
       "      <th>0</th>\n",
       "      <td>←Montag abend</td>\n",
       "      <td>[Mountain Pose, Mountain Pose Raised Hands Hea...</td>\n",
       "      <td>Hatha</td>\n",
       "    </tr>\n",
       "    <tr>\n",
       "      <th>1</th>\n",
       "      <td>←Vishuddha (Throat) Balance</td>\n",
       "      <td>[Easy Pose, Breath Awareness Section, Establis...</td>\n",
       "      <td>Hatha</td>\n",
       "    </tr>\n",
       "    <tr>\n",
       "      <th>2</th>\n",
       "      <td>←Breathe yoga</td>\n",
       "      <td>[Easy Pose, Diaphragmatic Breathing, Seated Ca...</td>\n",
       "      <td>Hatha</td>\n",
       "    </tr>\n",
       "    <tr>\n",
       "      <th>3</th>\n",
       "      <td>←___Arm_balance</td>\n",
       "      <td>[Pranayama, Ocean Breath Variation I Close Up,...</td>\n",
       "      <td>Hatha</td>\n",
       "    </tr>\n",
       "    <tr>\n",
       "      <th>4</th>\n",
       "      <td>←floor and hips</td>\n",
       "      <td>[One Legged Wheel Pose Feet Partner, Flying Wh...</td>\n",
       "      <td>Hatha</td>\n",
       "    </tr>\n",
       "    <tr>\n",
       "      <th>...</th>\n",
       "      <td>...</td>\n",
       "      <td>...</td>\n",
       "      <td>...</td>\n",
       "    </tr>\n",
       "    <tr>\n",
       "      <th>1995</th>\n",
       "      <td>←Cactus Flow Sequence</td>\n",
       "      <td>[Belly Twist Flow, Half Wind Release Pose, Rev...</td>\n",
       "      <td>Hatha</td>\n",
       "    </tr>\n",
       "    <tr>\n",
       "      <th>1996</th>\n",
       "      <td>←Monday Shoulders</td>\n",
       "      <td>[Shoulder Stretch Pose Variation Hand To Big T...</td>\n",
       "      <td>Hatha</td>\n",
       "    </tr>\n",
       "    <tr>\n",
       "      <th>1997</th>\n",
       "      <td>←Hatha KW</td>\n",
       "      <td>[Reclined Butterfly With Blocks, Reverse Pigeo...</td>\n",
       "      <td>Hatha</td>\n",
       "    </tr>\n",
       "    <tr>\n",
       "      <th>1998</th>\n",
       "      <td>←Tuesday Cover -</td>\n",
       "      <td>[Corpse Pose Roll Under Spine, Supine Windshie...</td>\n",
       "      <td>Hatha</td>\n",
       "    </tr>\n",
       "    <tr>\n",
       "      <th>1999</th>\n",
       "      <td>←</td>\n",
       "      <td>[Plank Pose, Side Plank Pose, Plank Pose, Side...</td>\n",
       "      <td>Hatha</td>\n",
       "    </tr>\n",
       "  </tbody>\n",
       "</table>\n",
       "<p>11000 rows × 3 columns</p>\n",
       "</div>"
      ],
      "text/plain": [
       "                            Title  \\\n",
       "0                   ←Montag abend   \n",
       "1     ←Vishuddha (Throat) Balance   \n",
       "2                   ←Breathe yoga   \n",
       "3                 ←___Arm_balance   \n",
       "4                 ←floor and hips   \n",
       "...                           ...   \n",
       "1995        ←Cactus Flow Sequence   \n",
       "1996            ←Monday Shoulders   \n",
       "1997                   ←Hatha KW    \n",
       "1998            ←Tuesday Cover -    \n",
       "1999                            ←   \n",
       "\n",
       "                                                  Poses Class Type  \n",
       "0     [Mountain Pose, Mountain Pose Raised Hands Hea...      Hatha  \n",
       "1     [Easy Pose, Breath Awareness Section, Establis...      Hatha  \n",
       "2     [Easy Pose, Diaphragmatic Breathing, Seated Ca...      Hatha  \n",
       "3     [Pranayama, Ocean Breath Variation I Close Up,...      Hatha  \n",
       "4     [One Legged Wheel Pose Feet Partner, Flying Wh...      Hatha  \n",
       "...                                                 ...        ...  \n",
       "1995  [Belly Twist Flow, Half Wind Release Pose, Rev...      Hatha  \n",
       "1996  [Shoulder Stretch Pose Variation Hand To Big T...      Hatha  \n",
       "1997  [Reclined Butterfly With Blocks, Reverse Pigeo...      Hatha  \n",
       "1998  [Corpse Pose Roll Under Spine, Supine Windshie...      Hatha  \n",
       "1999  [Plank Pose, Side Plank Pose, Plank Pose, Side...      Hatha  \n",
       "\n",
       "[11000 rows x 3 columns]"
      ]
     },
     "execution_count": 13,
     "metadata": {},
     "output_type": "execute_result"
    }
   ],
   "source": [
    "hatha_df"
   ]
  },
  {
   "cell_type": "code",
   "execution_count": 14,
   "metadata": {},
   "outputs": [],
   "source": [
    "f = open(\"hatha_df\", \"wb\")\n",
    "pickle.dump(hatha_df, f)\n",
    "f.close()"
   ]
  },
  {
   "cell_type": "code",
   "execution_count": null,
   "metadata": {},
   "outputs": [],
   "source": []
  }
 ],
 "metadata": {
  "kernelspec": {
   "display_name": "Python 3",
   "language": "python",
   "name": "python3"
  },
  "language_info": {
   "codemirror_mode": {
    "name": "ipython",
    "version": 3
   },
   "file_extension": ".py",
   "mimetype": "text/x-python",
   "name": "python",
   "nbconvert_exporter": "python",
   "pygments_lexer": "ipython3",
   "version": "3.7.7"
  }
 },
 "nbformat": 4,
 "nbformat_minor": 4
}
