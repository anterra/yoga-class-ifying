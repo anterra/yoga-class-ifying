{
 "cells": [
  {
   "cell_type": "code",
   "execution_count": 2,
   "metadata": {},
   "outputs": [],
   "source": [
    "from bs4 import BeautifulSoup\n",
    "import mechanicalsoup\n",
    "import requests\n",
    "import time, os\n",
    "from selenium import webdriver\n",
    "import math\n",
    "import pickle\n",
    "import re\n",
    "import numpy as np\n",
    "import pandas as pd\n",
    "import psycopg2 as pg\n",
    "import pandas.io.sql as pd_sql\n",
    "\n",
    "chromedriver = \"/Applications/chromedriver\"\n",
    "os.environ[\"webdriver.chrome.driver\"] = chromedriver"
   ]
  },
  {
   "cell_type": "code",
   "execution_count": 3,
   "metadata": {},
   "outputs": [],
   "source": [
    "driver = webdriver.Chrome(chromedriver)\n",
    "driver.get(\"https://www.tummee.com/login?\")\n",
    "\n",
    "cookies = pickle.load(open(\"cookies.pickle\", \"rb\"))\n",
    "for cookie in cookies:\n",
    "    driver.add_cookie(cookie)\n",
    "\n",
    "driver.get(\"https://www.tummee.com/sequences/teachers/daily\")"
   ]
  },
  {
   "cell_type": "code",
   "execution_count": 4,
   "metadata": {},
   "outputs": [],
   "source": [
    "f = open(\"ashtanga_urls\", \"rb\")\n",
    "ashtanga_urls = pickle.load(f)\n",
    "f.close()"
   ]
  },
  {
   "cell_type": "code",
   "execution_count": 5,
   "metadata": {},
   "outputs": [],
   "source": [
    "def get_poses(url): \n",
    "    driver.get(url)\n",
    "    soup = BeautifulSoup(driver.page_source, \"html.parser\")\n",
    "    try: \n",
    "        title = re.sub(r\"[\\t\\n0-9.]\", \"\", soup.find(\"h1\").text.strip())\n",
    "        find_poses = soup.find_all(\"a\", class_=\"english-title\")\n",
    "        poses = [re.sub(r\"[\\t\\n0-9.]\", \"\", i.text.strip()) for i in find_poses]\n",
    "        class_type = \"Ashtanga\"\n",
    "    except AttributeError:\n",
    "        info = {\"Title\": np.nan}\n",
    "    else: \n",
    "        info = {\"Title\": title, \"Poses\": poses, \"Class Type\": class_type}\n",
    "    return info"
   ]
  },
  {
   "cell_type": "code",
   "execution_count": 6,
   "metadata": {},
   "outputs": [],
   "source": [
    "ashtanga_classes = [get_poses(url) for url in ashtanga_urls]"
   ]
  },
  {
   "cell_type": "code",
   "execution_count": 8,
   "metadata": {},
   "outputs": [
    {
     "data": {
      "text/html": [
       "<div>\n",
       "<style scoped>\n",
       "    .dataframe tbody tr th:only-of-type {\n",
       "        vertical-align: middle;\n",
       "    }\n",
       "\n",
       "    .dataframe tbody tr th {\n",
       "        vertical-align: top;\n",
       "    }\n",
       "\n",
       "    .dataframe thead th {\n",
       "        text-align: right;\n",
       "    }\n",
       "</style>\n",
       "<table border=\"1\" class=\"dataframe\">\n",
       "  <thead>\n",
       "    <tr style=\"text-align: right;\">\n",
       "      <th></th>\n",
       "      <th>Title</th>\n",
       "      <th>Poses</th>\n",
       "      <th>Class Type</th>\n",
       "    </tr>\n",
       "  </thead>\n",
       "  <tbody>\n",
       "    <tr>\n",
       "      <th>0</th>\n",
       "      <td>←KCADY Week  Ashtanga</td>\n",
       "      <td>[Sun Salutation A First Half, Sun Salutation A...</td>\n",
       "      <td>Ashtanga</td>\n",
       "    </tr>\n",
       "    <tr>\n",
       "      <th>1</th>\n",
       "      <td>←Master Flow: Ashtanga Yoga Remix</td>\n",
       "      <td>[Easy Pose, Introduce Breath Section, Downward...</td>\n",
       "      <td>Ashtanga</td>\n",
       "    </tr>\n",
       "    <tr>\n",
       "      <th>2</th>\n",
       "      <td>←Beach Flow - Ashtanga flow</td>\n",
       "      <td>[Child Pose, Cobra Pose, Wide Child Pose, Sphi...</td>\n",
       "      <td>Ashtanga</td>\n",
       "    </tr>\n",
       "    <tr>\n",
       "      <th>3</th>\n",
       "      <td>←Peace and Power</td>\n",
       "      <td>[Warmup, Sun Salutation A Second Half, Key Pos...</td>\n",
       "      <td>Ashtanga</td>\n",
       "    </tr>\n",
       "    <tr>\n",
       "      <th>4</th>\n",
       "      <td>←KCADY Season  Week  Ashtanga</td>\n",
       "      <td>[Sun Salutation A First Half, Sun Salutation A...</td>\n",
       "      <td>Ashtanga</td>\n",
       "    </tr>\n",
       "    <tr>\n",
       "      <th>...</th>\n",
       "      <td>...</td>\n",
       "      <td>...</td>\n",
       "      <td>...</td>\n",
       "    </tr>\n",
       "    <tr>\n",
       "      <th>1394</th>\n",
       "      <td>←NATARAJASANA (Vũ công)</td>\n",
       "      <td>[Fish Pose Blocks Knees Positions, Cat Cow Pos...</td>\n",
       "      <td>Ashtanga</td>\n",
       "    </tr>\n",
       "    <tr>\n",
       "      <th>1395</th>\n",
       "      <td>←Série Primaire débutant</td>\n",
       "      <td>[Sun Salutation A, Sun Salutation B, Mountain ...</td>\n",
       "      <td>Ashtanga</td>\n",
       "    </tr>\n",
       "    <tr>\n",
       "      <th>1396</th>\n",
       "      <td>←HANDSTAND</td>\n",
       "      <td>[Hero Pose, Hero Pose Variation Hands Raised, ...</td>\n",
       "      <td>Ashtanga</td>\n",
       "    </tr>\n",
       "    <tr>\n",
       "      <th>1397</th>\n",
       "      <td>←Hip Opening Sequence</td>\n",
       "      <td>[Hand to Big Toe Pose, Standing Forward Bend H...</td>\n",
       "      <td>Ashtanga</td>\n",
       "    </tr>\n",
       "    <tr>\n",
       "      <th>1398</th>\n",
       "      <td>←Secuencia Anjali Namaste</td>\n",
       "      <td>[Mountain Pose, Chair Pose Deep Bend, Chair Po...</td>\n",
       "      <td>Ashtanga</td>\n",
       "    </tr>\n",
       "  </tbody>\n",
       "</table>\n",
       "<p>1399 rows × 3 columns</p>\n",
       "</div>"
      ],
      "text/plain": [
       "                                  Title  \\\n",
       "0                 ←KCADY Week  Ashtanga   \n",
       "1     ←Master Flow: Ashtanga Yoga Remix   \n",
       "2          ←Beach Flow - Ashtanga flow    \n",
       "3                      ←Peace and Power   \n",
       "4         ←KCADY Season  Week  Ashtanga   \n",
       "...                                 ...   \n",
       "1394            ←NATARAJASANA (Vũ công)   \n",
       "1395           ←Série Primaire débutant   \n",
       "1396                         ←HANDSTAND   \n",
       "1397              ←Hip Opening Sequence   \n",
       "1398          ←Secuencia Anjali Namaste   \n",
       "\n",
       "                                                  Poses Class Type  \n",
       "0     [Sun Salutation A First Half, Sun Salutation A...   Ashtanga  \n",
       "1     [Easy Pose, Introduce Breath Section, Downward...   Ashtanga  \n",
       "2     [Child Pose, Cobra Pose, Wide Child Pose, Sphi...   Ashtanga  \n",
       "3     [Warmup, Sun Salutation A Second Half, Key Pos...   Ashtanga  \n",
       "4     [Sun Salutation A First Half, Sun Salutation A...   Ashtanga  \n",
       "...                                                 ...        ...  \n",
       "1394  [Fish Pose Blocks Knees Positions, Cat Cow Pos...   Ashtanga  \n",
       "1395  [Sun Salutation A, Sun Salutation B, Mountain ...   Ashtanga  \n",
       "1396  [Hero Pose, Hero Pose Variation Hands Raised, ...   Ashtanga  \n",
       "1397  [Hand to Big Toe Pose, Standing Forward Bend H...   Ashtanga  \n",
       "1398  [Mountain Pose, Chair Pose Deep Bend, Chair Po...   Ashtanga  \n",
       "\n",
       "[1399 rows x 3 columns]"
      ]
     },
     "execution_count": 8,
     "metadata": {},
     "output_type": "execute_result"
    }
   ],
   "source": [
    "df = pd.DataFrame(ashtanga_classes)\n",
    "df"
   ]
  },
  {
   "cell_type": "code",
   "execution_count": 9,
   "metadata": {},
   "outputs": [],
   "source": [
    "f = open(\"ashtanga_df\", \"wb\")\n",
    "pickle.dump(df, f)\n",
    "f.close()"
   ]
  }
 ],
 "metadata": {
  "kernelspec": {
   "display_name": "Python 3",
   "language": "python",
   "name": "python3"
  },
  "language_info": {
   "codemirror_mode": {
    "name": "ipython",
    "version": 3
   },
   "file_extension": ".py",
   "mimetype": "text/x-python",
   "name": "python",
   "nbconvert_exporter": "python",
   "pygments_lexer": "ipython3",
   "version": "3.7.7"
  }
 },
 "nbformat": 4,
 "nbformat_minor": 4
}
