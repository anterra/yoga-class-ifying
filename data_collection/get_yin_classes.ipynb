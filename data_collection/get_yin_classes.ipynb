{
 "cells": [
  {
   "cell_type": "code",
   "execution_count": 2,
   "metadata": {},
   "outputs": [],
   "source": [
    "from bs4 import BeautifulSoup\n",
    "import mechanicalsoup\n",
    "import requests\n",
    "import time, os\n",
    "from selenium import webdriver\n",
    "import math\n",
    "import pickle\n",
    "import re\n",
    "import numpy as np\n",
    "import pandas as pd\n",
    "import psycopg2 as pg\n",
    "import pandas.io.sql as pd_sql\n",
    "\n",
    "chromedriver = \"/Applications/chromedriver\"\n",
    "os.environ[\"webdriver.chrome.driver\"] = chromedriver"
   ]
  },
  {
   "cell_type": "code",
   "execution_count": 3,
   "metadata": {},
   "outputs": [],
   "source": [
    "driver = webdriver.Chrome(chromedriver)\n",
    "driver.get(\"https://www.tummee.com/login?\")\n",
    "\n",
    "cookies = pickle.load(open(\"cookies.pickle\", \"rb\"))\n",
    "for cookie in cookies:\n",
    "    driver.add_cookie(cookie)\n",
    "\n",
    "driver.get(\"https://www.tummee.com/sequences/teachers/daily\")"
   ]
  },
  {
   "cell_type": "code",
   "execution_count": 4,
   "metadata": {},
   "outputs": [],
   "source": [
    "f = open(\"yin_urls\", \"rb\")\n",
    "yin_urls = pickle.load(f)\n",
    "f.close()"
   ]
  },
  {
   "cell_type": "code",
   "execution_count": 10,
   "metadata": {},
   "outputs": [],
   "source": [
    "def get_poses(url): \n",
    "    driver.get(url)\n",
    "    soup = BeautifulSoup(driver.page_source, \"html.parser\")\n",
    "    try: \n",
    "        title = re.sub(r\"[\\t\\n0-9.]\", \"\", soup.find(\"h1\").text.strip())\n",
    "        find_poses = soup.find_all(\"a\", class_=\"english-title\")\n",
    "        poses = [re.sub(r\"[\\t\\n0-9.]\", \"\", i.text.strip()) for i in find_poses]\n",
    "        class_type = \"Yin\"\n",
    "    except AttributeError:\n",
    "        info = {\"Title\": np.nan}\n",
    "    except TimeoutError:\n",
    "        info = {\"Title\": np.nan}\n",
    "    else: \n",
    "        info = {\"Title\": title, \"Poses\": poses, \"Class Type\": class_type}\n",
    "    return info"
   ]
  },
  {
   "cell_type": "code",
   "execution_count": 6,
   "metadata": {},
   "outputs": [
    {
     "data": {
      "text/plain": [
       "4587"
      ]
     },
     "execution_count": 6,
     "metadata": {},
     "output_type": "execute_result"
    }
   ],
   "source": [
    "len(yin_urls)"
   ]
  },
  {
   "cell_type": "code",
   "execution_count": 8,
   "metadata": {},
   "outputs": [],
   "source": [
    "yin_classes_1 = [get_poses(url) for url in yin_urls[0:1000]]"
   ]
  },
  {
   "cell_type": "code",
   "execution_count": 29,
   "metadata": {},
   "outputs": [],
   "source": [
    "df = pd.DataFrame(yin_classes_1)"
   ]
  },
  {
   "cell_type": "code",
   "execution_count": 11,
   "metadata": {},
   "outputs": [],
   "source": [
    "yin_classes_2 = [get_poses(url) for url in yin_urls[1000:3000]]"
   ]
  },
  {
   "cell_type": "code",
   "execution_count": 30,
   "metadata": {},
   "outputs": [],
   "source": [
    "df2 = pd.DataFrame(yin_classes_2)"
   ]
  },
  {
   "cell_type": "code",
   "execution_count": 23,
   "metadata": {},
   "outputs": [],
   "source": [
    "yin_classes_3 = [get_poses(url) for url in yin_urls[3000:]]"
   ]
  },
  {
   "cell_type": "code",
   "execution_count": 31,
   "metadata": {},
   "outputs": [],
   "source": [
    "df3 = pd.DataFrame(yin_classes_3)"
   ]
  },
  {
   "cell_type": "code",
   "execution_count": 32,
   "metadata": {},
   "outputs": [],
   "source": [
    "yin_df = pd.concat([df, df2, df3])"
   ]
  },
  {
   "cell_type": "code",
   "execution_count": 33,
   "metadata": {},
   "outputs": [
    {
     "data": {
      "text/html": [
       "<div>\n",
       "<style scoped>\n",
       "    .dataframe tbody tr th:only-of-type {\n",
       "        vertical-align: middle;\n",
       "    }\n",
       "\n",
       "    .dataframe tbody tr th {\n",
       "        vertical-align: top;\n",
       "    }\n",
       "\n",
       "    .dataframe thead th {\n",
       "        text-align: right;\n",
       "    }\n",
       "</style>\n",
       "<table border=\"1\" class=\"dataframe\">\n",
       "  <thead>\n",
       "    <tr style=\"text-align: right;\">\n",
       "      <th></th>\n",
       "      <th>Title</th>\n",
       "      <th>Poses</th>\n",
       "      <th>Class Type</th>\n",
       "    </tr>\n",
       "  </thead>\n",
       "  <tbody>\n",
       "    <tr>\n",
       "      <th>0</th>\n",
       "      <td>←Yin chair</td>\n",
       "      <td>[Chair Neck Rolls B, Shoulders Lift And Drop C...</td>\n",
       "      <td>Yin</td>\n",
       "    </tr>\n",
       "    <tr>\n",
       "      <th>1</th>\n",
       "      <td>←Moon Hatha/Yin Hybrid July</td>\n",
       "      <td>[Easy Pose Fingers On Floor Arms Raised Overhe...</td>\n",
       "      <td>Yin</td>\n",
       "    </tr>\n",
       "    <tr>\n",
       "      <th>2</th>\n",
       "      <td>←Letting go</td>\n",
       "      <td>[Easy Pose, Butterfly Pose Variation Forward B...</td>\n",
       "      <td>Yin</td>\n",
       "    </tr>\n",
       "    <tr>\n",
       "      <th>3</th>\n",
       "      <td>←Yin</td>\n",
       "      <td>[Centering, Easy Pose Block, Pranayama, Ujjayi...</td>\n",
       "      <td>Yin</td>\n",
       "    </tr>\n",
       "    <tr>\n",
       "      <th>4</th>\n",
       "      <td>←YIN PSOAS</td>\n",
       "      <td>[Corpse Pose, Half Wind Release Pose, Supine S...</td>\n",
       "      <td>Yin</td>\n",
       "    </tr>\n",
       "    <tr>\n",
       "      <th>...</th>\n",
       "      <td>...</td>\n",
       "      <td>...</td>\n",
       "      <td>...</td>\n",
       "    </tr>\n",
       "    <tr>\n",
       "      <th>1582</th>\n",
       "      <td>←Shoulder-Heart Opener</td>\n",
       "      <td>[Easy Pose, Easy Pose Neck Side Stretch, Easy ...</td>\n",
       "      <td>Yin</td>\n",
       "    </tr>\n",
       "    <tr>\n",
       "      <th>1583</th>\n",
       "      <td>←Yin Sequence</td>\n",
       "      <td>[Easy Pose, Cat Cow Pose, Child Pose, Seated S...</td>\n",
       "      <td>Yin</td>\n",
       "    </tr>\n",
       "    <tr>\n",
       "      <th>1584</th>\n",
       "      <td>←Practicing Presence</td>\n",
       "      <td>[Easy Pose Hands To Heart, Easy Pose Twist Rai...</td>\n",
       "      <td>Yin</td>\n",
       "    </tr>\n",
       "    <tr>\n",
       "      <th>1585</th>\n",
       "      <td>←Yin- Cooling</td>\n",
       "      <td>[Sitali, Bound Angle Pose Blocks, Sun Breaths,...</td>\n",
       "      <td>Yin</td>\n",
       "    </tr>\n",
       "    <tr>\n",
       "      <th>1586</th>\n",
       "      <td>←LET GO</td>\n",
       "      <td>[Easy Pose, Alternate Nostril Breathing, Winge...</td>\n",
       "      <td>Yin</td>\n",
       "    </tr>\n",
       "  </tbody>\n",
       "</table>\n",
       "<p>4587 rows × 3 columns</p>\n",
       "</div>"
      ],
      "text/plain": [
       "                              Title  \\\n",
       "0                        ←Yin chair   \n",
       "1     ←Moon Hatha/Yin Hybrid July     \n",
       "2                       ←Letting go   \n",
       "3                              ←Yin   \n",
       "4                        ←YIN PSOAS   \n",
       "...                             ...   \n",
       "1582         ←Shoulder-Heart Opener   \n",
       "1583                  ←Yin Sequence   \n",
       "1584           ←Practicing Presence   \n",
       "1585                  ←Yin- Cooling   \n",
       "1586                        ←LET GO   \n",
       "\n",
       "                                                  Poses Class Type  \n",
       "0     [Chair Neck Rolls B, Shoulders Lift And Drop C...        Yin  \n",
       "1     [Easy Pose Fingers On Floor Arms Raised Overhe...        Yin  \n",
       "2     [Easy Pose, Butterfly Pose Variation Forward B...        Yin  \n",
       "3     [Centering, Easy Pose Block, Pranayama, Ujjayi...        Yin  \n",
       "4     [Corpse Pose, Half Wind Release Pose, Supine S...        Yin  \n",
       "...                                                 ...        ...  \n",
       "1582  [Easy Pose, Easy Pose Neck Side Stretch, Easy ...        Yin  \n",
       "1583  [Easy Pose, Cat Cow Pose, Child Pose, Seated S...        Yin  \n",
       "1584  [Easy Pose Hands To Heart, Easy Pose Twist Rai...        Yin  \n",
       "1585  [Sitali, Bound Angle Pose Blocks, Sun Breaths,...        Yin  \n",
       "1586  [Easy Pose, Alternate Nostril Breathing, Winge...        Yin  \n",
       "\n",
       "[4587 rows x 3 columns]"
      ]
     },
     "execution_count": 33,
     "metadata": {},
     "output_type": "execute_result"
    }
   ],
   "source": [
    "yin_df"
   ]
  },
  {
   "cell_type": "code",
   "execution_count": 34,
   "metadata": {},
   "outputs": [],
   "source": [
    "f = open(\"yin_df\", \"wb\")\n",
    "pickle.dump(yin_df, f)\n",
    "f.close()"
   ]
  },
  {
   "cell_type": "code",
   "execution_count": null,
   "metadata": {},
   "outputs": [],
   "source": []
  }
 ],
 "metadata": {
  "kernelspec": {
   "display_name": "Python 3",
   "language": "python",
   "name": "python3"
  },
  "language_info": {
   "codemirror_mode": {
    "name": "ipython",
    "version": 3
   },
   "file_extension": ".py",
   "mimetype": "text/x-python",
   "name": "python",
   "nbconvert_exporter": "python",
   "pygments_lexer": "ipython3",
   "version": "3.7.7"
  }
 },
 "nbformat": 4,
 "nbformat_minor": 4
}
