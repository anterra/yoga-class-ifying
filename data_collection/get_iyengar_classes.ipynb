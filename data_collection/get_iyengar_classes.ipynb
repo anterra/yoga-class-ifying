{
 "cells": [
  {
   "cell_type": "code",
   "execution_count": 1,
   "metadata": {},
   "outputs": [],
   "source": [
    "from bs4 import BeautifulSoup\n",
    "import mechanicalsoup\n",
    "import requests\n",
    "import time, os\n",
    "from selenium import webdriver\n",
    "import math\n",
    "import pickle\n",
    "import re\n",
    "import numpy as np\n",
    "import pandas as pd\n",
    "import psycopg2 as pg\n",
    "import pandas.io.sql as pd_sql\n",
    "\n",
    "chromedriver = \"/Applications/chromedriver\"\n",
    "os.environ[\"webdriver.chrome.driver\"] = chromedriver"
   ]
  },
  {
   "cell_type": "code",
   "execution_count": 2,
   "metadata": {},
   "outputs": [],
   "source": [
    "driver = webdriver.Chrome(chromedriver)\n",
    "driver.get(\"https://www.tummee.com/login?\")\n",
    "\n",
    "cookies = pickle.load(open(\"cookies.pickle\", \"rb\"))\n",
    "for cookie in cookies:\n",
    "    driver.add_cookie(cookie)\n",
    "\n",
    "driver.get(\"https://www.tummee.com/sequences/teachers/daily\")"
   ]
  },
  {
   "cell_type": "code",
   "execution_count": 6,
   "metadata": {},
   "outputs": [],
   "source": [
    "f = open(\"iyengar_urls\", \"rb\")\n",
    "iyengar_urls = pickle.load(f)\n",
    "f.close()"
   ]
  },
  {
   "cell_type": "code",
   "execution_count": 4,
   "metadata": {},
   "outputs": [],
   "source": [
    "def get_poses(url): \n",
    "    driver.get(url)\n",
    "    soup = BeautifulSoup(driver.page_source, \"html.parser\")\n",
    "    try: \n",
    "        title = re.sub(r\"[\\t\\n0-9.]\", \"\", soup.find(\"h1\").text.strip())\n",
    "        find_poses = soup.find_all(\"a\", class_=\"english-title\")\n",
    "        poses = [re.sub(r\"[\\t\\n0-9.]\", \"\", i.text.strip()) for i in find_poses]\n",
    "        class_type = \"Iyengar\"\n",
    "    except AttributeError:\n",
    "        info = {\"Title\": np.nan}\n",
    "    else: \n",
    "        info = {\"Title\": title, \"Poses\": poses, \"Class Type\": class_type}\n",
    "    return info"
   ]
  },
  {
   "cell_type": "code",
   "execution_count": 7,
   "metadata": {},
   "outputs": [],
   "source": [
    "iyengar_classes = [get_poses(url) for url in iyengar_urls]"
   ]
  },
  {
   "cell_type": "code",
   "execution_count": 9,
   "metadata": {},
   "outputs": [
    {
     "data": {
      "text/html": [
       "<div>\n",
       "<style scoped>\n",
       "    .dataframe tbody tr th:only-of-type {\n",
       "        vertical-align: middle;\n",
       "    }\n",
       "\n",
       "    .dataframe tbody tr th {\n",
       "        vertical-align: top;\n",
       "    }\n",
       "\n",
       "    .dataframe thead th {\n",
       "        text-align: right;\n",
       "    }\n",
       "</style>\n",
       "<table border=\"1\" class=\"dataframe\">\n",
       "  <thead>\n",
       "    <tr style=\"text-align: right;\">\n",
       "      <th></th>\n",
       "      <th>Title</th>\n",
       "      <th>Poses</th>\n",
       "      <th>Class Type</th>\n",
       "    </tr>\n",
       "  </thead>\n",
       "  <tbody>\n",
       "    <tr>\n",
       "      <th>0</th>\n",
       "      <td>←Standing Arms</td>\n",
       "      <td>[Arms Raised Overhead Palms Front Close Up, Ar...</td>\n",
       "      <td>Iyengar</td>\n",
       "    </tr>\n",
       "    <tr>\n",
       "      <th>1</th>\n",
       "      <td>←Gayatri Flow - original de Diana Vaz revisto ...</td>\n",
       "      <td>[Triangle Pose, Half Moon Pose, Warrior Pose I...</td>\n",
       "      <td>Iyengar</td>\n",
       "    </tr>\n",
       "    <tr>\n",
       "      <th>2</th>\n",
       "      <td>←Core</td>\n",
       "      <td>[Cobra Dance Flow, Standing Squat Pose Knee Mo...</td>\n",
       "      <td>Iyengar</td>\n",
       "    </tr>\n",
       "    <tr>\n",
       "      <th>3</th>\n",
       "      <td>←Secuencia PIES</td>\n",
       "      <td>[Virasana sobre ladrillo, Trabajo de tobillos,...</td>\n",
       "      <td>Iyengar</td>\n",
       "    </tr>\n",
       "    <tr>\n",
       "      <th>4</th>\n",
       "      <td>←Iyengar Course  - Week -</td>\n",
       "      <td>[Mountain Pose, Five Pointed Star Pose, Triang...</td>\n",
       "      <td>Iyengar</td>\n",
       "    </tr>\n",
       "    <tr>\n",
       "      <th>...</th>\n",
       "      <td>...</td>\n",
       "      <td>...</td>\n",
       "      <td>...</td>\n",
       "    </tr>\n",
       "    <tr>\n",
       "      <th>1206</th>\n",
       "      <td>←Обичай себе си - седмица</td>\n",
       "      <td>[Seated Mountain Pose, Easy Pose Variation Arm...</td>\n",
       "      <td>Iyengar</td>\n",
       "    </tr>\n",
       "    <tr>\n",
       "      <th>1207</th>\n",
       "      <td>← joint movement</td>\n",
       "      <td>[Neck Rotation And Massage, Arms Rotations, St...</td>\n",
       "      <td>Iyengar</td>\n",
       "    </tr>\n",
       "    <tr>\n",
       "      <th>1208</th>\n",
       "      <td>←Level I - Stehhaltungen</td>\n",
       "      <td>[Samasthiti, Ūrdhva Hastāsana, Ūrdhva Baddhāṅg...</td>\n",
       "      <td>Iyengar</td>\n",
       "    </tr>\n",
       "    <tr>\n",
       "      <th>1209</th>\n",
       "      <td>NaN</td>\n",
       "      <td>NaN</td>\n",
       "      <td>NaN</td>\n",
       "    </tr>\n",
       "    <tr>\n",
       "      <th>1210</th>\n",
       "      <td>←Alignment</td>\n",
       "      <td>[Easy Pose, Cat Cow Pose, Downward Facing Dog ...</td>\n",
       "      <td>Iyengar</td>\n",
       "    </tr>\n",
       "  </tbody>\n",
       "</table>\n",
       "<p>1211 rows × 3 columns</p>\n",
       "</div>"
      ],
      "text/plain": [
       "                                                  Title  \\\n",
       "0                                        ←Standing Arms   \n",
       "1     ←Gayatri Flow - original de Diana Vaz revisto ...   \n",
       "2                                                 ←Core   \n",
       "3                                       ←Secuencia PIES   \n",
       "4                             ←Iyengar Course  - Week -   \n",
       "...                                                 ...   \n",
       "1206                          ←Обичай себе си - седмица   \n",
       "1207                                   ← joint movement   \n",
       "1208                          ←Level I - Stehhaltungen    \n",
       "1209                                                NaN   \n",
       "1210                                         ←Alignment   \n",
       "\n",
       "                                                  Poses Class Type  \n",
       "0     [Arms Raised Overhead Palms Front Close Up, Ar...    Iyengar  \n",
       "1     [Triangle Pose, Half Moon Pose, Warrior Pose I...    Iyengar  \n",
       "2     [Cobra Dance Flow, Standing Squat Pose Knee Mo...    Iyengar  \n",
       "3     [Virasana sobre ladrillo, Trabajo de tobillos,...    Iyengar  \n",
       "4     [Mountain Pose, Five Pointed Star Pose, Triang...    Iyengar  \n",
       "...                                                 ...        ...  \n",
       "1206  [Seated Mountain Pose, Easy Pose Variation Arm...    Iyengar  \n",
       "1207  [Neck Rotation And Massage, Arms Rotations, St...    Iyengar  \n",
       "1208  [Samasthiti, Ūrdhva Hastāsana, Ūrdhva Baddhāṅg...    Iyengar  \n",
       "1209                                                NaN        NaN  \n",
       "1210  [Easy Pose, Cat Cow Pose, Downward Facing Dog ...    Iyengar  \n",
       "\n",
       "[1211 rows x 3 columns]"
      ]
     },
     "execution_count": 9,
     "metadata": {},
     "output_type": "execute_result"
    }
   ],
   "source": [
    "df = pd.DataFrame(iyengar_classes)\n",
    "df"
   ]
  },
  {
   "cell_type": "code",
   "execution_count": 11,
   "metadata": {},
   "outputs": [],
   "source": [
    "f = open(\"iyengar_df\", \"wb\")\n",
    "pickle.dump(df, f)\n",
    "f.close()"
   ]
  },
  {
   "cell_type": "code",
   "execution_count": null,
   "metadata": {},
   "outputs": [],
   "source": []
  }
 ],
 "metadata": {
  "kernelspec": {
   "display_name": "Python 3",
   "language": "python",
   "name": "python3"
  },
  "language_info": {
   "codemirror_mode": {
    "name": "ipython",
    "version": 3
   },
   "file_extension": ".py",
   "mimetype": "text/x-python",
   "name": "python",
   "nbconvert_exporter": "python",
   "pygments_lexer": "ipython3",
   "version": "3.7.7"
  }
 },
 "nbformat": 4,
 "nbformat_minor": 4
}
